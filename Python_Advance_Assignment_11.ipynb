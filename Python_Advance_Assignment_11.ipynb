{
  "nbformat": 4,
  "nbformat_minor": 0,
  "metadata": {
    "colab": {
      "name": "Python_Advance_Assignment_11.ipynb",
      "provenance": []
    },
    "kernelspec": {
      "name": "python3",
      "display_name": "Python 3"
    },
    "language_info": {
      "name": "python"
    }
  },
  "cells": [
    {
      "cell_type": "markdown",
      "source": [
        "Q1). What is the concept of a metaclass?\n",
        "\n",
        "Ans) a metaclass is a class whose instances are classes."
      ],
      "metadata": {
        "id": "q2NdXiwBiU9n"
      }
    },
    {
      "cell_type": "markdown",
      "source": [
        "Q2). What is the best way to declare a class's metaclass?\n",
        "\n",
        "Ans) A metaclass in Python is a class of a class that defines how a class behaves"
      ],
      "metadata": {
        "id": "Fo8S3iT3iU6B"
      }
    },
    {
      "cell_type": "markdown",
      "source": [
        "Q3). How do class decorators overlap with metaclasses for handling classes?\n",
        "\n",
        "Ans) Decorating adds functionality to existing functions.\n",
        " When we decorate a function with a class, that function becomes an instance of the class. "
      ],
      "metadata": {
        "id": "Vvcsrh4tiU3S"
      }
    },
    {
      "cell_type": "markdown",
      "source": [
        "Q4). How do class decorators overlap with metaclasses for handling instances?\n",
        "\n",
        "Ans) Decorating adds functionality to existing functions. When we decorate a function with a class, that function becomes an instance of the class."
      ],
      "metadata": {
        "id": "pmnxGUwmiU0u"
      }
    },
    {
      "cell_type": "code",
      "execution_count": null,
      "metadata": {
        "id": "qLAIX7COiT7X"
      },
      "outputs": [],
      "source": [
        ""
      ]
    }
  ]
}